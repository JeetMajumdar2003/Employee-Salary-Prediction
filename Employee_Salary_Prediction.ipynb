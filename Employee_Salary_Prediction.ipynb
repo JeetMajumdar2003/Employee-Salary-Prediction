{
 "cells": [
  {
   "cell_type": "markdown",
   "metadata": {},
   "source": [
    "# Employee Salary Prediction\n",
    "\n",
    "This notebook demonstrates a complete machine learning workflow to predict whether an employee earns more than 50K or not, based on demographic and work-related features."
   ]
  },
  {
   "cell_type": "code",
   "execution_count": 1,
   "metadata": {
    "colab": {
     "base_uri": "https://localhost:8080/",
     "height": 399
    },
    "id": "00742168",
    "outputId": "8fe6a966-ab22-44eb-96a8-3b6b54f40864"
   },
   "outputs": [
    {
     "data": {
      "application/vnd.microsoft.datawrangler.viewer.v0+json": {
       "columns": [
        {
         "name": "index",
         "rawType": "int64",
         "type": "integer"
        },
        {
         "name": "age",
         "rawType": "int64",
         "type": "integer"
        },
        {
         "name": "workclass",
         "rawType": "object",
         "type": "string"
        },
        {
         "name": "fnlwgt",
         "rawType": "int64",
         "type": "integer"
        },
        {
         "name": "education",
         "rawType": "object",
         "type": "string"
        },
        {
         "name": "educational-num",
         "rawType": "int64",
         "type": "integer"
        },
        {
         "name": "marital-status",
         "rawType": "object",
         "type": "string"
        },
        {
         "name": "occupation",
         "rawType": "object",
         "type": "string"
        },
        {
         "name": "relationship",
         "rawType": "object",
         "type": "string"
        },
        {
         "name": "race",
         "rawType": "object",
         "type": "string"
        },
        {
         "name": "gender",
         "rawType": "object",
         "type": "string"
        },
        {
         "name": "capital-gain",
         "rawType": "int64",
         "type": "integer"
        },
        {
         "name": "capital-loss",
         "rawType": "int64",
         "type": "integer"
        },
        {
         "name": "hours-per-week",
         "rawType": "int64",
         "type": "integer"
        },
        {
         "name": "native-country",
         "rawType": "object",
         "type": "string"
        },
        {
         "name": "income",
         "rawType": "object",
         "type": "string"
        }
       ],
       "ref": "8a99922e-06f6-460d-a19b-0ee30b562859",
       "rows": [
        [
         "0",
         "25",
         "Private",
         "226802",
         "11th",
         "7",
         "Never-married",
         "Machine-op-inspct",
         "Own-child",
         "Black",
         "Male",
         "0",
         "0",
         "40",
         "United-States",
         "<=50K"
        ],
        [
         "1",
         "38",
         "Private",
         "89814",
         "HS-grad",
         "9",
         "Married-civ-spouse",
         "Farming-fishing",
         "Husband",
         "White",
         "Male",
         "0",
         "0",
         "50",
         "United-States",
         "<=50K"
        ],
        [
         "2",
         "28",
         "Local-gov",
         "336951",
         "Assoc-acdm",
         "12",
         "Married-civ-spouse",
         "Protective-serv",
         "Husband",
         "White",
         "Male",
         "0",
         "0",
         "40",
         "United-States",
         ">50K"
        ],
        [
         "3",
         "44",
         "Private",
         "160323",
         "Some-college",
         "10",
         "Married-civ-spouse",
         "Machine-op-inspct",
         "Husband",
         "Black",
         "Male",
         "7688",
         "0",
         "40",
         "United-States",
         ">50K"
        ],
        [
         "4",
         "18",
         "?",
         "103497",
         "Some-college",
         "10",
         "Never-married",
         "?",
         "Own-child",
         "White",
         "Female",
         "0",
         "0",
         "30",
         "United-States",
         "<=50K"
        ],
        [
         "5",
         "34",
         "Private",
         "198693",
         "10th",
         "6",
         "Never-married",
         "Other-service",
         "Not-in-family",
         "White",
         "Male",
         "0",
         "0",
         "30",
         "United-States",
         "<=50K"
        ],
        [
         "6",
         "29",
         "?",
         "227026",
         "HS-grad",
         "9",
         "Never-married",
         "?",
         "Unmarried",
         "Black",
         "Male",
         "0",
         "0",
         "40",
         "United-States",
         "<=50K"
        ],
        [
         "7",
         "63",
         "Self-emp-not-inc",
         "104626",
         "Prof-school",
         "15",
         "Married-civ-spouse",
         "Prof-specialty",
         "Husband",
         "White",
         "Male",
         "3103",
         "0",
         "32",
         "United-States",
         ">50K"
        ],
        [
         "8",
         "24",
         "Private",
         "369667",
         "Some-college",
         "10",
         "Never-married",
         "Other-service",
         "Unmarried",
         "White",
         "Female",
         "0",
         "0",
         "40",
         "United-States",
         "<=50K"
        ],
        [
         "9",
         "55",
         "Private",
         "104996",
         "7th-8th",
         "4",
         "Married-civ-spouse",
         "Craft-repair",
         "Husband",
         "White",
         "Male",
         "0",
         "0",
         "10",
         "United-States",
         "<=50K"
        ],
        [
         "10",
         "65",
         "Private",
         "184454",
         "HS-grad",
         "9",
         "Married-civ-spouse",
         "Machine-op-inspct",
         "Husband",
         "White",
         "Male",
         "6418",
         "0",
         "40",
         "United-States",
         ">50K"
        ],
        [
         "11",
         "36",
         "Federal-gov",
         "212465",
         "Bachelors",
         "13",
         "Married-civ-spouse",
         "Adm-clerical",
         "Husband",
         "White",
         "Male",
         "0",
         "0",
         "40",
         "United-States",
         "<=50K"
        ],
        [
         "12",
         "26",
         "Private",
         "82091",
         "HS-grad",
         "9",
         "Never-married",
         "Adm-clerical",
         "Not-in-family",
         "White",
         "Female",
         "0",
         "0",
         "39",
         "United-States",
         "<=50K"
        ],
        [
         "13",
         "58",
         "?",
         "299831",
         "HS-grad",
         "9",
         "Married-civ-spouse",
         "?",
         "Husband",
         "White",
         "Male",
         "0",
         "0",
         "35",
         "United-States",
         "<=50K"
        ],
        [
         "14",
         "48",
         "Private",
         "279724",
         "HS-grad",
         "9",
         "Married-civ-spouse",
         "Machine-op-inspct",
         "Husband",
         "White",
         "Male",
         "3103",
         "0",
         "48",
         "United-States",
         ">50K"
        ],
        [
         "15",
         "43",
         "Private",
         "346189",
         "Masters",
         "14",
         "Married-civ-spouse",
         "Exec-managerial",
         "Husband",
         "White",
         "Male",
         "0",
         "0",
         "50",
         "United-States",
         ">50K"
        ],
        [
         "16",
         "20",
         "State-gov",
         "444554",
         "Some-college",
         "10",
         "Never-married",
         "Other-service",
         "Own-child",
         "White",
         "Male",
         "0",
         "0",
         "25",
         "United-States",
         "<=50K"
        ],
        [
         "17",
         "43",
         "Private",
         "128354",
         "HS-grad",
         "9",
         "Married-civ-spouse",
         "Adm-clerical",
         "Wife",
         "White",
         "Female",
         "0",
         "0",
         "30",
         "United-States",
         "<=50K"
        ],
        [
         "18",
         "37",
         "Private",
         "60548",
         "HS-grad",
         "9",
         "Widowed",
         "Machine-op-inspct",
         "Unmarried",
         "White",
         "Female",
         "0",
         "0",
         "20",
         "United-States",
         "<=50K"
        ],
        [
         "19",
         "40",
         "Private",
         "85019",
         "Doctorate",
         "16",
         "Married-civ-spouse",
         "Prof-specialty",
         "Husband",
         "Asian-Pac-Islander",
         "Male",
         "0",
         "0",
         "45",
         "?",
         ">50K"
        ],
        [
         "20",
         "34",
         "Private",
         "107914",
         "Bachelors",
         "13",
         "Married-civ-spouse",
         "Tech-support",
         "Husband",
         "White",
         "Male",
         "0",
         "0",
         "47",
         "United-States",
         ">50K"
        ],
        [
         "21",
         "34",
         "Private",
         "238588",
         "Some-college",
         "10",
         "Never-married",
         "Other-service",
         "Own-child",
         "Black",
         "Female",
         "0",
         "0",
         "35",
         "United-States",
         "<=50K"
        ],
        [
         "22",
         "72",
         "?",
         "132015",
         "7th-8th",
         "4",
         "Divorced",
         "?",
         "Not-in-family",
         "White",
         "Female",
         "0",
         "0",
         "6",
         "United-States",
         "<=50K"
        ],
        [
         "23",
         "25",
         "Private",
         "220931",
         "Bachelors",
         "13",
         "Never-married",
         "Prof-specialty",
         "Not-in-family",
         "White",
         "Male",
         "0",
         "0",
         "43",
         "Peru",
         "<=50K"
        ],
        [
         "24",
         "25",
         "Private",
         "205947",
         "Bachelors",
         "13",
         "Married-civ-spouse",
         "Prof-specialty",
         "Husband",
         "White",
         "Male",
         "0",
         "0",
         "40",
         "United-States",
         "<=50K"
        ],
        [
         "25",
         "45",
         "Self-emp-not-inc",
         "432824",
         "HS-grad",
         "9",
         "Married-civ-spouse",
         "Craft-repair",
         "Husband",
         "White",
         "Male",
         "7298",
         "0",
         "90",
         "United-States",
         ">50K"
        ],
        [
         "26",
         "22",
         "Private",
         "236427",
         "HS-grad",
         "9",
         "Never-married",
         "Adm-clerical",
         "Own-child",
         "White",
         "Male",
         "0",
         "0",
         "20",
         "United-States",
         "<=50K"
        ],
        [
         "27",
         "23",
         "Private",
         "134446",
         "HS-grad",
         "9",
         "Separated",
         "Machine-op-inspct",
         "Unmarried",
         "Black",
         "Male",
         "0",
         "0",
         "54",
         "United-States",
         "<=50K"
        ],
        [
         "28",
         "54",
         "Private",
         "99516",
         "HS-grad",
         "9",
         "Married-civ-spouse",
         "Craft-repair",
         "Husband",
         "White",
         "Male",
         "0",
         "0",
         "35",
         "United-States",
         "<=50K"
        ],
        [
         "29",
         "32",
         "Self-emp-not-inc",
         "109282",
         "Some-college",
         "10",
         "Never-married",
         "Prof-specialty",
         "Not-in-family",
         "White",
         "Male",
         "0",
         "0",
         "60",
         "United-States",
         "<=50K"
        ],
        [
         "30",
         "46",
         "State-gov",
         "106444",
         "Some-college",
         "10",
         "Married-civ-spouse",
         "Exec-managerial",
         "Husband",
         "Black",
         "Male",
         "7688",
         "0",
         "38",
         "United-States",
         ">50K"
        ],
        [
         "31",
         "56",
         "Self-emp-not-inc",
         "186651",
         "11th",
         "7",
         "Widowed",
         "Other-service",
         "Unmarried",
         "White",
         "Female",
         "0",
         "0",
         "50",
         "United-States",
         "<=50K"
        ],
        [
         "32",
         "24",
         "Self-emp-not-inc",
         "188274",
         "Bachelors",
         "13",
         "Never-married",
         "Sales",
         "Not-in-family",
         "White",
         "Male",
         "0",
         "0",
         "50",
         "United-States",
         "<=50K"
        ],
        [
         "33",
         "23",
         "Local-gov",
         "258120",
         "Some-college",
         "10",
         "Married-civ-spouse",
         "Protective-serv",
         "Husband",
         "White",
         "Male",
         "0",
         "0",
         "40",
         "United-States",
         "<=50K"
        ],
        [
         "34",
         "26",
         "Private",
         "43311",
         "HS-grad",
         "9",
         "Divorced",
         "Exec-managerial",
         "Unmarried",
         "White",
         "Female",
         "0",
         "0",
         "40",
         "United-States",
         "<=50K"
        ],
        [
         "35",
         "65",
         "?",
         "191846",
         "HS-grad",
         "9",
         "Married-civ-spouse",
         "?",
         "Husband",
         "White",
         "Male",
         "0",
         "0",
         "40",
         "United-States",
         "<=50K"
        ],
        [
         "36",
         "36",
         "Local-gov",
         "403681",
         "Bachelors",
         "13",
         "Married-civ-spouse",
         "Prof-specialty",
         "Husband",
         "White",
         "Male",
         "0",
         "0",
         "40",
         "United-States",
         ">50K"
        ],
        [
         "37",
         "22",
         "Private",
         "248446",
         "5th-6th",
         "3",
         "Never-married",
         "Priv-house-serv",
         "Not-in-family",
         "White",
         "Male",
         "0",
         "0",
         "50",
         "Guatemala",
         "<=50K"
        ],
        [
         "38",
         "17",
         "Private",
         "269430",
         "10th",
         "6",
         "Never-married",
         "Machine-op-inspct",
         "Not-in-family",
         "White",
         "Male",
         "0",
         "0",
         "40",
         "United-States",
         "<=50K"
        ],
        [
         "39",
         "20",
         "Private",
         "257509",
         "HS-grad",
         "9",
         "Never-married",
         "Craft-repair",
         "Own-child",
         "White",
         "Male",
         "0",
         "0",
         "40",
         "United-States",
         "<=50K"
        ],
        [
         "40",
         "65",
         "Private",
         "136384",
         "Masters",
         "14",
         "Married-civ-spouse",
         "Prof-specialty",
         "Husband",
         "White",
         "Male",
         "0",
         "0",
         "50",
         "United-States",
         ">50K"
        ],
        [
         "41",
         "44",
         "Self-emp-inc",
         "120277",
         "Assoc-voc",
         "11",
         "Married-civ-spouse",
         "Sales",
         "Husband",
         "White",
         "Male",
         "0",
         "0",
         "45",
         "United-States",
         ">50K"
        ],
        [
         "42",
         "36",
         "Private",
         "465326",
         "HS-grad",
         "9",
         "Married-civ-spouse",
         "Farming-fishing",
         "Husband",
         "White",
         "Male",
         "0",
         "0",
         "40",
         "United-States",
         "<=50K"
        ],
        [
         "43",
         "29",
         "Private",
         "103634",
         "11th",
         "7",
         "Married-civ-spouse",
         "Other-service",
         "Husband",
         "White",
         "Male",
         "0",
         "0",
         "40",
         "United-States",
         "<=50K"
        ],
        [
         "44",
         "20",
         "State-gov",
         "138371",
         "Some-college",
         "10",
         "Never-married",
         "Farming-fishing",
         "Own-child",
         "White",
         "Male",
         "0",
         "0",
         "32",
         "United-States",
         "<=50K"
        ],
        [
         "45",
         "28",
         "Private",
         "242832",
         "Assoc-voc",
         "11",
         "Married-civ-spouse",
         "Prof-specialty",
         "Wife",
         "White",
         "Female",
         "0",
         "0",
         "36",
         "United-States",
         ">50K"
        ],
        [
         "46",
         "39",
         "Private",
         "290208",
         "7th-8th",
         "4",
         "Married-civ-spouse",
         "Craft-repair",
         "Husband",
         "White",
         "Male",
         "0",
         "0",
         "40",
         "Mexico",
         "<=50K"
        ],
        [
         "47",
         "54",
         "Private",
         "186272",
         "Some-college",
         "10",
         "Married-civ-spouse",
         "Transport-moving",
         "Husband",
         "White",
         "Male",
         "3908",
         "0",
         "50",
         "United-States",
         "<=50K"
        ],
        [
         "48",
         "52",
         "Private",
         "201062",
         "11th",
         "7",
         "Separated",
         "Priv-house-serv",
         "Not-in-family",
         "Black",
         "Female",
         "0",
         "0",
         "18",
         "United-States",
         "<=50K"
        ],
        [
         "49",
         "56",
         "Self-emp-inc",
         "131916",
         "HS-grad",
         "9",
         "Widowed",
         "Exec-managerial",
         "Not-in-family",
         "White",
         "Female",
         "0",
         "0",
         "50",
         "United-States",
         "<=50K"
        ]
       ],
       "shape": {
        "columns": 15,
        "rows": 48842
       }
      },
      "text/html": [
       "<div>\n",
       "<style scoped>\n",
       "    .dataframe tbody tr th:only-of-type {\n",
       "        vertical-align: middle;\n",
       "    }\n",
       "\n",
       "    .dataframe tbody tr th {\n",
       "        vertical-align: top;\n",
       "    }\n",
       "\n",
       "    .dataframe thead th {\n",
       "        text-align: right;\n",
       "    }\n",
       "</style>\n",
       "<table border=\"1\" class=\"dataframe\">\n",
       "  <thead>\n",
       "    <tr style=\"text-align: right;\">\n",
       "      <th></th>\n",
       "      <th>age</th>\n",
       "      <th>workclass</th>\n",
       "      <th>fnlwgt</th>\n",
       "      <th>education</th>\n",
       "      <th>educational-num</th>\n",
       "      <th>marital-status</th>\n",
       "      <th>occupation</th>\n",
       "      <th>relationship</th>\n",
       "      <th>race</th>\n",
       "      <th>gender</th>\n",
       "      <th>capital-gain</th>\n",
       "      <th>capital-loss</th>\n",
       "      <th>hours-per-week</th>\n",
       "      <th>native-country</th>\n",
       "      <th>income</th>\n",
       "    </tr>\n",
       "  </thead>\n",
       "  <tbody>\n",
       "    <tr>\n",
       "      <th>0</th>\n",
       "      <td>25</td>\n",
       "      <td>Private</td>\n",
       "      <td>226802</td>\n",
       "      <td>11th</td>\n",
       "      <td>7</td>\n",
       "      <td>Never-married</td>\n",
       "      <td>Machine-op-inspct</td>\n",
       "      <td>Own-child</td>\n",
       "      <td>Black</td>\n",
       "      <td>Male</td>\n",
       "      <td>0</td>\n",
       "      <td>0</td>\n",
       "      <td>40</td>\n",
       "      <td>United-States</td>\n",
       "      <td>&lt;=50K</td>\n",
       "    </tr>\n",
       "    <tr>\n",
       "      <th>1</th>\n",
       "      <td>38</td>\n",
       "      <td>Private</td>\n",
       "      <td>89814</td>\n",
       "      <td>HS-grad</td>\n",
       "      <td>9</td>\n",
       "      <td>Married-civ-spouse</td>\n",
       "      <td>Farming-fishing</td>\n",
       "      <td>Husband</td>\n",
       "      <td>White</td>\n",
       "      <td>Male</td>\n",
       "      <td>0</td>\n",
       "      <td>0</td>\n",
       "      <td>50</td>\n",
       "      <td>United-States</td>\n",
       "      <td>&lt;=50K</td>\n",
       "    </tr>\n",
       "    <tr>\n",
       "      <th>2</th>\n",
       "      <td>28</td>\n",
       "      <td>Local-gov</td>\n",
       "      <td>336951</td>\n",
       "      <td>Assoc-acdm</td>\n",
       "      <td>12</td>\n",
       "      <td>Married-civ-spouse</td>\n",
       "      <td>Protective-serv</td>\n",
       "      <td>Husband</td>\n",
       "      <td>White</td>\n",
       "      <td>Male</td>\n",
       "      <td>0</td>\n",
       "      <td>0</td>\n",
       "      <td>40</td>\n",
       "      <td>United-States</td>\n",
       "      <td>&gt;50K</td>\n",
       "    </tr>\n",
       "    <tr>\n",
       "      <th>3</th>\n",
       "      <td>44</td>\n",
       "      <td>Private</td>\n",
       "      <td>160323</td>\n",
       "      <td>Some-college</td>\n",
       "      <td>10</td>\n",
       "      <td>Married-civ-spouse</td>\n",
       "      <td>Machine-op-inspct</td>\n",
       "      <td>Husband</td>\n",
       "      <td>Black</td>\n",
       "      <td>Male</td>\n",
       "      <td>7688</td>\n",
       "      <td>0</td>\n",
       "      <td>40</td>\n",
       "      <td>United-States</td>\n",
       "      <td>&gt;50K</td>\n",
       "    </tr>\n",
       "    <tr>\n",
       "      <th>4</th>\n",
       "      <td>18</td>\n",
       "      <td>?</td>\n",
       "      <td>103497</td>\n",
       "      <td>Some-college</td>\n",
       "      <td>10</td>\n",
       "      <td>Never-married</td>\n",
       "      <td>?</td>\n",
       "      <td>Own-child</td>\n",
       "      <td>White</td>\n",
       "      <td>Female</td>\n",
       "      <td>0</td>\n",
       "      <td>0</td>\n",
       "      <td>30</td>\n",
       "      <td>United-States</td>\n",
       "      <td>&lt;=50K</td>\n",
       "    </tr>\n",
       "    <tr>\n",
       "      <th>...</th>\n",
       "      <td>...</td>\n",
       "      <td>...</td>\n",
       "      <td>...</td>\n",
       "      <td>...</td>\n",
       "      <td>...</td>\n",
       "      <td>...</td>\n",
       "      <td>...</td>\n",
       "      <td>...</td>\n",
       "      <td>...</td>\n",
       "      <td>...</td>\n",
       "      <td>...</td>\n",
       "      <td>...</td>\n",
       "      <td>...</td>\n",
       "      <td>...</td>\n",
       "      <td>...</td>\n",
       "    </tr>\n",
       "    <tr>\n",
       "      <th>48837</th>\n",
       "      <td>27</td>\n",
       "      <td>Private</td>\n",
       "      <td>257302</td>\n",
       "      <td>Assoc-acdm</td>\n",
       "      <td>12</td>\n",
       "      <td>Married-civ-spouse</td>\n",
       "      <td>Tech-support</td>\n",
       "      <td>Wife</td>\n",
       "      <td>White</td>\n",
       "      <td>Female</td>\n",
       "      <td>0</td>\n",
       "      <td>0</td>\n",
       "      <td>38</td>\n",
       "      <td>United-States</td>\n",
       "      <td>&lt;=50K</td>\n",
       "    </tr>\n",
       "    <tr>\n",
       "      <th>48838</th>\n",
       "      <td>40</td>\n",
       "      <td>Private</td>\n",
       "      <td>154374</td>\n",
       "      <td>HS-grad</td>\n",
       "      <td>9</td>\n",
       "      <td>Married-civ-spouse</td>\n",
       "      <td>Machine-op-inspct</td>\n",
       "      <td>Husband</td>\n",
       "      <td>White</td>\n",
       "      <td>Male</td>\n",
       "      <td>0</td>\n",
       "      <td>0</td>\n",
       "      <td>40</td>\n",
       "      <td>United-States</td>\n",
       "      <td>&gt;50K</td>\n",
       "    </tr>\n",
       "    <tr>\n",
       "      <th>48839</th>\n",
       "      <td>58</td>\n",
       "      <td>Private</td>\n",
       "      <td>151910</td>\n",
       "      <td>HS-grad</td>\n",
       "      <td>9</td>\n",
       "      <td>Widowed</td>\n",
       "      <td>Adm-clerical</td>\n",
       "      <td>Unmarried</td>\n",
       "      <td>White</td>\n",
       "      <td>Female</td>\n",
       "      <td>0</td>\n",
       "      <td>0</td>\n",
       "      <td>40</td>\n",
       "      <td>United-States</td>\n",
       "      <td>&lt;=50K</td>\n",
       "    </tr>\n",
       "    <tr>\n",
       "      <th>48840</th>\n",
       "      <td>22</td>\n",
       "      <td>Private</td>\n",
       "      <td>201490</td>\n",
       "      <td>HS-grad</td>\n",
       "      <td>9</td>\n",
       "      <td>Never-married</td>\n",
       "      <td>Adm-clerical</td>\n",
       "      <td>Own-child</td>\n",
       "      <td>White</td>\n",
       "      <td>Male</td>\n",
       "      <td>0</td>\n",
       "      <td>0</td>\n",
       "      <td>20</td>\n",
       "      <td>United-States</td>\n",
       "      <td>&lt;=50K</td>\n",
       "    </tr>\n",
       "    <tr>\n",
       "      <th>48841</th>\n",
       "      <td>52</td>\n",
       "      <td>Self-emp-inc</td>\n",
       "      <td>287927</td>\n",
       "      <td>HS-grad</td>\n",
       "      <td>9</td>\n",
       "      <td>Married-civ-spouse</td>\n",
       "      <td>Exec-managerial</td>\n",
       "      <td>Wife</td>\n",
       "      <td>White</td>\n",
       "      <td>Female</td>\n",
       "      <td>15024</td>\n",
       "      <td>0</td>\n",
       "      <td>40</td>\n",
       "      <td>United-States</td>\n",
       "      <td>&gt;50K</td>\n",
       "    </tr>\n",
       "  </tbody>\n",
       "</table>\n",
       "<p>48842 rows × 15 columns</p>\n",
       "</div>"
      ],
      "text/plain": [
       "       age     workclass  fnlwgt     education  educational-num  \\\n",
       "0       25       Private  226802          11th                7   \n",
       "1       38       Private   89814       HS-grad                9   \n",
       "2       28     Local-gov  336951    Assoc-acdm               12   \n",
       "3       44       Private  160323  Some-college               10   \n",
       "4       18             ?  103497  Some-college               10   \n",
       "...    ...           ...     ...           ...              ...   \n",
       "48837   27       Private  257302    Assoc-acdm               12   \n",
       "48838   40       Private  154374       HS-grad                9   \n",
       "48839   58       Private  151910       HS-grad                9   \n",
       "48840   22       Private  201490       HS-grad                9   \n",
       "48841   52  Self-emp-inc  287927       HS-grad                9   \n",
       "\n",
       "           marital-status         occupation relationship   race  gender  \\\n",
       "0           Never-married  Machine-op-inspct    Own-child  Black    Male   \n",
       "1      Married-civ-spouse    Farming-fishing      Husband  White    Male   \n",
       "2      Married-civ-spouse    Protective-serv      Husband  White    Male   \n",
       "3      Married-civ-spouse  Machine-op-inspct      Husband  Black    Male   \n",
       "4           Never-married                  ?    Own-child  White  Female   \n",
       "...                   ...                ...          ...    ...     ...   \n",
       "48837  Married-civ-spouse       Tech-support         Wife  White  Female   \n",
       "48838  Married-civ-spouse  Machine-op-inspct      Husband  White    Male   \n",
       "48839             Widowed       Adm-clerical    Unmarried  White  Female   \n",
       "48840       Never-married       Adm-clerical    Own-child  White    Male   \n",
       "48841  Married-civ-spouse    Exec-managerial         Wife  White  Female   \n",
       "\n",
       "       capital-gain  capital-loss  hours-per-week native-country income  \n",
       "0                 0             0              40  United-States  <=50K  \n",
       "1                 0             0              50  United-States  <=50K  \n",
       "2                 0             0              40  United-States   >50K  \n",
       "3              7688             0              40  United-States   >50K  \n",
       "4                 0             0              30  United-States  <=50K  \n",
       "...             ...           ...             ...            ...    ...  \n",
       "48837             0             0              38  United-States  <=50K  \n",
       "48838             0             0              40  United-States   >50K  \n",
       "48839             0             0              40  United-States  <=50K  \n",
       "48840             0             0              20  United-States  <=50K  \n",
       "48841         15024             0              40  United-States   >50K  \n",
       "\n",
       "[48842 rows x 15 columns]"
      ]
     },
     "execution_count": 1,
     "metadata": {},
     "output_type": "execute_result"
    }
   ],
   "source": [
    "import pandas as pd\n",
    "\n",
    "df = pd.read_csv('./data/adult_3.csv')\n",
    "df"
   ]
  },
  {
   "cell_type": "markdown",
   "metadata": {},
   "source": [
    "## Data Visualization\n",
    "Visualize the data to better understand feature distributions and relationships."
   ]
  },
  {
   "cell_type": "code",
   "execution_count": 2,
   "metadata": {},
   "outputs": [
    {
     "data": {
      "image/png": "[encoded data removed]",
      "text/plain": [
       "<Figure size 600x400 with 1 Axes>"
      ]
     },
     "metadata": {},
     "output_type": "display_data"
    }
   ],
   "source": [
    "import matplotlib.pyplot as plt\n",
    "import seaborn as sns\n",
    "%matplotlib inline\n",
    "\n",
    "# Plot the distribution of the target variable (income)\n",
    "plt.figure(figsize=(6,4))\n",
    "sns.countplot(x='income', data=df, palette='Set2')\n",
    "plt.title('Distribution of Income Classes')\n",
    "plt.xlabel('Income')\n",
    "plt.ylabel('Count')\n",
    "plt.show()"
   ]
  },
  {
   "cell_type": "code",
   "execution_count": 3,
   "metadata": {},
   "outputs": [
    {
     "data": {
      "image/png": "[encoded data removed]",
      "text/plain": [
       "<Figure size 1200x400 with 3 Axes>"
      ]
     },
     "metadata": {},
     "output_type": "display_data"
    }
   ],
   "source": [
    "# Plot histograms for key numerical features\n",
    "num_features = ['age', 'hours-per-week', 'educational-num']\n",
    "df[num_features].hist(bins=20, figsize=(12, 4), layout=(1, len(num_features)), color='skyblue', edgecolor='black')\n",
    "plt.suptitle('Histograms of Numerical Features')\n",
    "plt.tight_layout(rect=[0, 0, 1, 0.95])\n",
    "plt.show()"
   ]
  },
  {
   "cell_type": "code",
   "execution_count": 4,
   "metadata": {},
   "outputs": [
    {
     "data": {
      "image/png": "[encoded data removed]",
      "text/plain": [
       "<Figure size 1600x400 with 3 Axes>"
      ]
     },
     "metadata": {},
     "output_type": "display_data"
    }
   ],
   "source": [
    "# Bar plots for categorical features\n",
    "cat_features = ['education', 'workclass', 'occupation']\n",
    "fig, axes = plt.subplots(1, len(cat_features), figsize=(16, 4))\n",
    "for i, col in enumerate(cat_features):\n",
    "    sns.countplot(x=col, data=df, ax=axes[i], palette='Set3', order=df[col].value_counts().index)\n",
    "    axes[i].set_title(f'{col} Distribution')\n",
    "    axes[i].tick_params(axis='x', rotation=45)\n",
    "plt.tight_layout()\n",
    "plt.show()"
   ]
  },
  {
   "cell_type": "code",
   "execution_count": 5,
   "metadata": {},
   "outputs": [
    {
     "data": {
      "image/png": "[encoded data removed]",
      "text/plain": [
       "<Figure size 700x500 with 1 Axes>"
      ]
     },
     "metadata": {},
     "output_type": "display_data"
    }
   ],
   "source": [
    "# Boxplot: Age vs. Income\n",
    "plt.figure(figsize=(7, 5))\n",
    "sns.boxplot(x='income', y='age', data=df, palette='Set1')\n",
    "plt.title('Boxplot of Age by Income Class')\n",
    "plt.xlabel('Income')\n",
    "plt.ylabel('Age')\n",
    "plt.show()"
   ]
  },
  {
   "cell_type": "markdown",
   "metadata": {},
   "source": [
    "## Data Exploration\n",
    "Take a first look at the dataset, check its structure, and identify missing values or anomalies."
   ]
  },
  {
   "cell_type": "code",
   "execution_count": 6,
   "metadata": {
    "colab": {
     "base_uri": "https://localhost:8080/",
     "height": 1000
    },
    "id": "fafd5930",
    "outputId": "219c510d-9406-4e9b-d2ac-4ca9421eabc3"
   },
   "outputs": [
    {
     "data": {
      "application/vnd.microsoft.datawrangler.viewer.v0+json": {
       "columns": [
        {
         "name": "index",
         "rawType": "int64",
         "type": "integer"
        },
        {
         "name": "age",
         "rawType": "int64",
         "type": "integer"
        },
        {
         "name": "workclass",
         "rawType": "object",
         "type": "string"
        },
        {
         "name": "fnlwgt",
         "rawType": "int64",
         "type": "integer"
        },
        {
         "name": "education",
         "rawType": "object",
         "type": "string"
        },
        {
         "name": "educational-num",
         "rawType": "int64",
         "type": "integer"
        },
        {
         "name": "marital-status",
         "rawType": "object",
         "type": "string"
        },
        {
         "name": "occupation",
         "rawType": "object",
         "type": "string"
        },
        {
         "name": "relationship",
         "rawType": "object",
         "type": "string"
        },
        {
         "name": "race",
         "rawType": "object",
         "type": "string"
        },
        {
         "name": "gender",
         "rawType": "object",
         "type": "string"
        },
        {
         "name": "capital-gain",
         "rawType": "int64",
         "type": "integer"
        },
        {
         "name": "capital-loss",
         "rawType": "int64",
         "type": "integer"
        },
        {
         "name": "hours-per-week",
         "rawType": "int64",
         "type": "integer"
        },
        {
         "name": "native-country",
         "rawType": "object",
         "type": "string"
        },
        {
         "name": "income",
         "rawType": "object",
         "type": "string"
        }
       ],
       "ref": "2d349cdf-f602-4fb8-8d2f-c06ffde7cfc9",
       "rows": [
        [
         "0",
         "25",
         "Private",
         "226802",
         "11th",
         "7",
         "Never-married",
         "Machine-op-inspct",
         "Own-child",
         "Black",
         "Male",
         "0",
         "0",
         "40",
         "United-States",
         "<=50K"
        ],
        [
         "1",
         "38",
         "Private",
         "89814",
         "HS-grad",
         "9",
         "Married-civ-spouse",
         "Farming-fishing",
         "Husband",
         "White",
         "Male",
         "0",
         "0",
         "50",
         "United-States",
         "<=50K"
        ],
        [
         "2",
         "28",
         "Local-gov",
         "336951",
         "Assoc-acdm",
         "12",
         "Married-civ-spouse",
         "Protective-serv",
         "Husband",
         "White",
         "Male",
         "0",
         "0",
         "40",
         "United-States",
         ">50K"
        ],
        [
         "3",
         "44",
         "Private",
         "160323",
         "Some-college",
         "10",
         "Married-civ-spouse",
         "Machine-op-inspct",
         "Husband",
         "Black",
         "Male",
         "7688",
         "0",
         "40",
         "United-States",
         ">50K"
        ],
        [
         "4",
         "18",
         "?",
         "103497",
         "Some-college",
         "10",
         "Never-married",
         "?",
         "Own-child",
         "White",
         "Female",
         "0",
         "0",
         "30",
         "United-States",
         "<=50K"
        ]
       ],
       "shape": {
        "columns": 15,
        "rows": 5
       }
      },
      "text/html": [
       "<div>\n",
       "<style scoped>\n",
       "    .dataframe tbody tr th:only-of-type {\n",
       "        vertical-align: middle;\n",
       "    }\n",
       "\n",
       "    .dataframe tbody tr th {\n",
       "        vertical-align: top;\n",
       "    }\n",
       "\n",
       "    .dataframe thead th {\n",
       "        text-align: right;\n",
       "    }\n",
       "</style>\n",
       "<table border=\"1\" class=\"dataframe\">\n",
       "  <thead>\n",
       "    <tr style=\"text-align: right;\">\n",
       "      <th></th>\n",
       "      <th>age</th>\n",
       "      <th>workclass</th>\n",
       "      <th>fnlwgt</th>\n",
       "      <th>education</th>\n",
       "      <th>educational-num</th>\n",
       "      <th>marital-status</th>\n",
       "      <th>occupation</th>\n",
       "      <th>relationship</th>\n",
       "      <th>race</th>\n",
       "      <th>gender</th>\n",
       "      <th>capital-gain</th>\n",
       "      <th>capital-loss</th>\n",
       "      <th>hours-per-week</th>\n",
       "      <th>native-country</th>\n",
       "      <th>income</th>\n",
       "    </tr>\n",
       "  </thead>\n",
       "  <tbody>\n",
       "    <tr>\n",
       "      <th>0</th>\n",
       "      <td>25</td>\n",
       "      <td>Private</td>\n",
       "      <td>226802</td>\n",
       "      <td>11th</td>\n",
       "      <td>7</td>\n",
       "      <td>Never-married</td>\n",
       "      <td>Machine-op-inspct</td>\n",
       "      <td>Own-child</td>\n",
       "      <td>Black</td>\n",
       "      <td>Male</td>\n",
       "      <td>0</td>\n",
       "      <td>0</td>\n",
       "      <td>40</td>\n",
       "      <td>United-States</td>\n",
       "      <td>&lt;=50K</td>\n",
       "    </tr>\n",
       "    <tr>\n",
       "      <th>1</th>\n",
       "      <td>38</td>\n",
       "      <td>Private</td>\n",
       "      <td>89814</td>\n",
       "      <td>HS-grad</td>\n",
       "      <td>9</td>\n",
       "      <td>Married-civ-spouse</td>\n",
       "      <td>Farming-fishing</td>\n",
       "      <td>Husband</td>\n",
       "      <td>White</td>\n",
       "      <td>Male</td>\n",
       "      <td>0</td>\n",
       "      <td>0</td>\n",
       "      <td>50</td>\n",
       "      <td>United-States</td>\n",
       "      <td>&lt;=50K</td>\n",
       "    </tr>\n",
       "    <tr>\n",
       "      <th>2</th>\n",
       "      <td>28</td>\n",
       "      <td>Local-gov</td>\n",
       "      <td>336951</td>\n",
       "      <td>Assoc-acdm</td>\n",
       "      <td>12</td>\n",
       "      <td>Married-civ-spouse</td>\n",
       "      <td>Protective-serv</td>\n",
       "      <td>Husband</td>\n",
       "      <td>White</td>\n",
       "      <td>Male</td>\n",
       "      <td>0</td>\n",
       "      <td>0</td>\n",
       "      <td>40</td>\n",
       "      <td>United-States</td>\n",
       "      <td>&gt;50K</td>\n",
       "    </tr>\n",
       "    <tr>\n",
       "      <th>3</th>\n",
       "      <td>44</td>\n",
       "      <td>Private</td>\n",
       "      <td>160323</td>\n",
       "      <td>Some-college</td>\n",
       "      <td>10</td>\n",
       "      <td>Married-civ-spouse</td>\n",
       "      <td>Machine-op-inspct</td>\n",
       "      <td>Husband</td>\n",
       "      <td>Black</td>\n",
       "      <td>Male</td>\n",
       "      <td>7688</td>\n",
       "      <td>0</td>\n",
       "      <td>40</td>\n",
       "      <td>United-States</td>\n",
       "      <td>&gt;50K</td>\n",
       "    </tr>\n",
       "    <tr>\n",
       "      <th>4</th>\n",
       "      <td>18</td>\n",
       "      <td>?</td>\n",
       "      <td>103497</td>\n",
       "      <td>Some-college</td>\n",
       "      <td>10</td>\n",
       "      <td>Never-married</td>\n",
       "      <td>?</td>\n",
       "      <td>Own-child</td>\n",
       "      <td>White</td>\n",
       "      <td>Female</td>\n",
       "      <td>0</td>\n",
       "      <td>0</td>\n",
       "      <td>30</td>\n",
       "      <td>United-States</td>\n",
       "      <td>&lt;=50K</td>\n",
       "    </tr>\n",
       "  </tbody>\n",
       "</table>\n",
       "</div>"
      ],
      "text/plain": [
       "   age  workclass  fnlwgt     education  educational-num      marital-status  \\\n",
       "0   25    Private  226802          11th                7       Never-married   \n",
       "1   38    Private   89814       HS-grad                9  Married-civ-spouse   \n",
       "2   28  Local-gov  336951    Assoc-acdm               12  Married-civ-spouse   \n",
       "3   44    Private  160323  Some-college               10  Married-civ-spouse   \n",
       "4   18          ?  103497  Some-college               10       Never-married   \n",
       "\n",
       "          occupation relationship   race  gender  capital-gain  capital-loss  \\\n",
       "0  Machine-op-inspct    Own-child  Black    Male             0             0   \n",
       "1    Farming-fishing      Husband  White    Male             0             0   \n",
       "2    Protective-serv      Husband  White    Male             0             0   \n",
       "3  Machine-op-inspct      Husband  Black    Male          7688             0   \n",
       "4                  ?    Own-child  White  Female             0             0   \n",
       "\n",
       "   hours-per-week native-country income  \n",
       "0              40  United-States  <=50K  \n",
       "1              50  United-States  <=50K  \n",
       "2              40  United-States   >50K  \n",
       "3              40  United-States   >50K  \n",
       "4              30  United-States  <=50K  "
      ]
     },
     "metadata": {},
     "output_type": "display_data"
    },
    {
     "name": "stdout",
     "output_type": "stream",
     "text": [
      "<class 'pandas.core.frame.DataFrame'>\n",
      "RangeIndex: 48842 entries, 0 to 48841\n",
      "Data columns (total 15 columns):\n",
      " #   Column           Non-Null Count  Dtype \n",
      "---  ------           --------------  ----- \n",
      " 0   age              48842 non-null  int64 \n",
      " 1   workclass        48842 non-null  object\n",
      " 2   fnlwgt           48842 non-null  int64 \n",
      " 3   education        48842 non-null  object\n",
      " 4   educational-num  48842 non-null  int64 \n",
      " 5   marital-status   48842 non-null  object\n",
      " 6   occupation       48842 non-null  object\n",
      " 7   relationship     48842 non-null  object\n",
      " 8   race             48842 non-null  object\n",
      " 9   gender           48842 non-null  object\n",
      " 10  capital-gain     48842 non-null  int64 \n",
      " 11  capital-loss     48842 non-null  int64 \n",
      " 12  hours-per-week   48842 non-null  int64 \n",
      " 13  native-country   48842 non-null  object\n",
      " 14  income           48842 non-null  object\n",
      "dtypes: int64(6), object(9)\n",
      "memory usage: 5.6+ MB\n"
     ]
    },
    {
     "data": {
      "text/plain": [
       "None"
      ]
     },
     "metadata": {},
     "output_type": "display_data"
    },
    {
     "data": {
      "application/vnd.microsoft.datawrangler.viewer.v0+json": {
       "columns": [
        {
         "name": "index",
         "rawType": "object",
         "type": "string"
        },
        {
         "name": "age",
         "rawType": "float64",
         "type": "float"
        },
        {
         "name": "fnlwgt",
         "rawType": "float64",
         "type": "float"
        },
        {
         "name": "educational-num",
         "rawType": "float64",
         "type": "float"
        },
        {
         "name": "capital-gain",
         "rawType": "float64",
         "type": "float"
        },
        {
         "name": "capital-loss",
         "rawType": "float64",
         "type": "float"
        },
        {
         "name": "hours-per-week",
         "rawType": "float64",
         "type": "float"
        }
       ],
       "ref": "ded64a68-8bb4-4d71-9ed9-e80f0c849cee",
       "rows": [
        [
         "count",
         "48842.0",
         "48842.0",
         "48842.0",
         "48842.0",
         "48842.0",
         "48842.0"
        ],
        [
         "mean",
         "38.64358543876172",
         "189664.13459727284",
         "10.078088530363212",
         "1079.0676262233324",
         "87.50231358257237",
         "40.422382375824085"
        ],
        [
         "std",
         "13.710509934443557",
         "105604.02542315728",
         "2.5709727555922566",
         "7452.019057655394",
         "403.00455212435907",
         "12.391444024252307"
        ],
        [
         "min",
         "17.0",
         "12285.0",
         "1.0",
         "0.0",
         "0.0",
         "1.0"
        ],
        [
         "25%",
         "28.0",
         "117550.5",
         "9.0",
         "0.0",
         "0.0",
         "40.0"
        ],
        [
         "50%",
         "37.0",
         "178144.5",
         "10.0",
         "0.0",
         "0.0",
         "40.0"
        ],
        [
         "75%",
         "48.0",
         "237642.0",
         "12.0",
         "0.0",
         "0.0",
         "45.0"
        ],
        [
         "max",
         "90.0",
         "1490400.0",
         "16.0",
         "99999.0",
         "4356.0",
         "99.0"
        ]
       ],
       "shape": {
        "columns": 6,
        "rows": 8
       }
      },
      "text/html": [
       "<div>\n",
       "<style scoped>\n",
       "    .dataframe tbody tr th:only-of-type {\n",
       "        vertical-align: middle;\n",
       "    }\n",
       "\n",
       "    .dataframe tbody tr th {\n",
       "        vertical-align: top;\n",
       "    }\n",
       "\n",
       "    .dataframe thead th {\n",
       "        text-align: right;\n",
       "    }\n",
       "</style>\n",
       "<table border=\"1\" class=\"dataframe\">\n",
       "  <thead>\n",
       "    <tr style=\"text-align: right;\">\n",
       "      <th></th>\n",
       "      <th>age</th>\n",
       "      <th>fnlwgt</th>\n",
       "      <th>educational-num</th>\n",
       "      <th>capital-gain</th>\n",
       "      <th>capital-loss</th>\n",
       "      <th>hours-per-week</th>\n",
       "    </tr>\n",
       "  </thead>\n",
       "  <tbody>\n",
       "    <tr>\n",
       "      <th>count</th>\n",
       "      <td>48842.000000</td>\n",
       "      <td>4.884200e+04</td>\n",
       "      <td>48842.000000</td>\n",
       "      <td>48842.000000</td>\n",
       "      <td>48842.000000</td>\n",
       "      <td>48842.000000</td>\n",
       "    </tr>\n",
       "    <tr>\n",
       "      <th>mean</th>\n",
       "      <td>38.643585</td>\n",
       "      <td>1.896641e+05</td>\n",
       "      <td>10.078089</td>\n",
       "      <td>1079.067626</td>\n",
       "      <td>87.502314</td>\n",
       "      <td>40.422382</td>\n",
       "    </tr>\n",
       "    <tr>\n",
       "      <th>std</th>\n",
       "      <td>13.710510</td>\n",
       "      <td>1.056040e+05</td>\n",
       "      <td>2.570973</td>\n",
       "      <td>7452.019058</td>\n",
       "      <td>403.004552</td>\n",
       "      <td>12.391444</td>\n",
       "    </tr>\n",
       "    <tr>\n",
       "      <th>min</th>\n",
       "      <td>17.000000</td>\n",
       "      <td>1.228500e+04</td>\n",
       "      <td>1.000000</td>\n",
       "      <td>0.000000</td>\n",
       "      <td>0.000000</td>\n",
       "      <td>1.000000</td>\n",
       "    </tr>\n",
       "    <tr>\n",
       "      <th>25%</th>\n",
       "      <td>28.000000</td>\n",
       "      <td>1.175505e+05</td>\n",
       "      <td>9.000000</td>\n",
       "      <td>0.000000</td>\n",
       "      <td>0.000000</td>\n",
       "      <td>40.000000</td>\n",
       "    </tr>\n",
       "    <tr>\n",
       "      <th>50%</th>\n",
       "      <td>37.000000</td>\n",
       "      <td>1.781445e+05</td>\n",
       "      <td>10.000000</td>\n",
       "      <td>0.000000</td>\n",
       "      <td>0.000000</td>\n",
       "      <td>40.000000</td>\n",
       "    </tr>\n",
       "    <tr>\n",
       "      <th>75%</th>\n",
       "      <td>48.000000</td>\n",
       "      <td>2.376420e+05</td>\n",
       "      <td>12.000000</td>\n",
       "      <td>0.000000</td>\n",
       "      <td>0.000000</td>\n",
       "      <td>45.000000</td>\n",
       "    </tr>\n",
       "    <tr>\n",
       "      <th>max</th>\n",
       "      <td>90.000000</td>\n",
       "      <td>1.490400e+06</td>\n",
       "      <td>16.000000</td>\n",
       "      <td>99999.000000</td>\n",
       "      <td>4356.000000</td>\n",
       "      <td>99.000000</td>\n",
       "    </tr>\n",
       "  </tbody>\n",
       "</table>\n",
       "</div>"
      ],
      "text/plain": [
       "                age        fnlwgt  educational-num  capital-gain  \\\n",
       "count  48842.000000  4.884200e+04     48842.000000  48842.000000   \n",
       "mean      38.643585  1.896641e+05        10.078089   1079.067626   \n",
       "std       13.710510  1.056040e+05         2.570973   7452.019058   \n",
       "min       17.000000  1.228500e+04         1.000000      0.000000   \n",
       "25%       28.000000  1.175505e+05         9.000000      0.000000   \n",
       "50%       37.000000  1.781445e+05        10.000000      0.000000   \n",
       "75%       48.000000  2.376420e+05        12.000000      0.000000   \n",
       "max       90.000000  1.490400e+06        16.000000  99999.000000   \n",
       "\n",
       "       capital-loss  hours-per-week  \n",
       "count  48842.000000    48842.000000  \n",
       "mean      87.502314       40.422382  \n",
       "std      403.004552       12.391444  \n",
       "min        0.000000        1.000000  \n",
       "25%        0.000000       40.000000  \n",
       "50%        0.000000       40.000000  \n",
       "75%        0.000000       45.000000  \n",
       "max     4356.000000       99.000000  "
      ]
     },
     "metadata": {},
     "output_type": "display_data"
    },
    {
     "data": {
      "application/vnd.microsoft.datawrangler.viewer.v0+json": {
       "columns": [
        {
         "name": "index",
         "rawType": "object",
         "type": "string"
        },
        {
         "name": "0",
         "rawType": "int64",
         "type": "integer"
        }
       ],
       "ref": "54713083-7094-430f-890d-c736faec9b36",
       "rows": [
        [
         "age",
         "0"
        ],
        [
         "workclass",
         "0"
        ],
        [
         "fnlwgt",
         "0"
        ],
        [
         "education",
         "0"
        ],
        [
         "educational-num",
         "0"
        ],
        [
         "marital-status",
         "0"
        ],
        [
         "occupation",
         "0"
        ],
        [
         "relationship",
         "0"
        ],
        [
         "race",
         "0"
        ],
        [
         "gender",
         "0"
        ],
        [
         "capital-gain",
         "0"
        ],
        [
         "capital-loss",
         "0"
        ],
        [
         "hours-per-week",
         "0"
        ],
        [
         "native-country",
         "0"
        ],
        [
         "income",
         "0"
        ]
       ],
       "shape": {
        "columns": 1,
        "rows": 15
       }
      },
      "text/plain": [
       "age                0\n",
       "workclass          0\n",
       "fnlwgt             0\n",
       "education          0\n",
       "educational-num    0\n",
       "marital-status     0\n",
       "occupation         0\n",
       "relationship       0\n",
       "race               0\n",
       "gender             0\n",
       "capital-gain       0\n",
       "capital-loss       0\n",
       "hours-per-week     0\n",
       "native-country     0\n",
       "income             0\n",
       "dtype: int64"
      ]
     },
     "metadata": {},
     "output_type": "display_data"
    }
   ],
   "source": [
    "display(df.head())\n",
    "display(df.info())\n",
    "display(df.describe())\n",
    "display(df.isnull().sum())"
   ]
  },
  {
   "cell_type": "code",
   "execution_count": 7,
   "metadata": {
    "colab": {
     "base_uri": "https://localhost:8080/",
     "height": 554
    },
    "id": "2d2379ca",
    "outputId": "b5533746-0fd7-4532-f9b0-393e5af03e31"
   },
   "outputs": [
    {
     "data": {
      "application/vnd.microsoft.datawrangler.viewer.v0+json": {
       "columns": [
        {
         "name": "index",
         "rawType": "object",
         "type": "string"
        },
        {
         "name": "0",
         "rawType": "int64",
         "type": "integer"
        }
       ],
       "ref": "f2e1f09e-fa4d-4fba-8eff-2b66f7fac3b0",
       "rows": [
        [
         "age",
         "0"
        ],
        [
         "workclass",
         "0"
        ],
        [
         "fnlwgt",
         "0"
        ],
        [
         "education",
         "0"
        ],
        [
         "educational-num",
         "0"
        ],
        [
         "marital-status",
         "0"
        ],
        [
         "occupation",
         "0"
        ],
        [
         "relationship",
         "0"
        ],
        [
         "race",
         "0"
        ],
        [
         "gender",
         "0"
        ],
        [
         "capital-gain",
         "0"
        ],
        [
         "capital-loss",
         "0"
        ],
        [
         "hours-per-week",
         "0"
        ],
        [
         "native-country",
         "0"
        ],
        [
         "income",
         "0"
        ]
       ],
       "shape": {
        "columns": 1,
        "rows": 15
       }
      },
      "text/plain": [
       "age                0\n",
       "workclass          0\n",
       "fnlwgt             0\n",
       "education          0\n",
       "educational-num    0\n",
       "marital-status     0\n",
       "occupation         0\n",
       "relationship       0\n",
       "race               0\n",
       "gender             0\n",
       "capital-gain       0\n",
       "capital-loss       0\n",
       "hours-per-week     0\n",
       "native-country     0\n",
       "income             0\n",
       "dtype: int64"
      ]
     },
     "metadata": {},
     "output_type": "display_data"
    }
   ],
   "source": [
    "import numpy as np\n",
    "\n",
    "df.replace('?', np.nan, inplace=True)\n",
    "df.dropna(inplace=True)\n",
    "\n",
    "categorical_cols = df.select_dtypes(include='object').columns\n",
    "numerical_cols = df.select_dtypes(include=np.number).columns\n",
    "\n",
    "display(df.isnull().sum())"
   ]
  },
  {
   "cell_type": "markdown",
   "metadata": {},
   "source": [
    "## Data Preprocessing\n",
    "Clean the data by handling missing values and encoding categorical variables. This ensures the dataset is ready for machine learning models."
   ]
  },
  {
   "cell_type": "code",
   "execution_count": 8,
   "metadata": {
    "colab": {
     "base_uri": "https://localhost:8080/",
     "height": 90
    },
    "id": "mxmM_Ko1FLBW",
    "outputId": "4e390a7c-4fc0-4810-a78a-7332c62896e5"
   },
   "outputs": [
    {
     "data": {
      "text/plain": [
       "(27133, 104)"
      ]
     },
     "metadata": {},
     "output_type": "display_data"
    },
    {
     "data": {
      "text/plain": [
       "(18089, 104)"
      ]
     },
     "metadata": {},
     "output_type": "display_data"
    },
    {
     "data": {
      "text/plain": [
       "(27133,)"
      ]
     },
     "metadata": {},
     "output_type": "display_data"
    },
    {
     "data": {
      "text/plain": [
       "(18089,)"
      ]
     },
     "metadata": {},
     "output_type": "display_data"
    }
   ],
   "source": [
    "from sklearn.preprocessing import OneHotEncoder\n",
    "from sklearn.compose import ColumnTransformer\n",
    "from sklearn.model_selection import train_test_split\n",
    "\n",
    "X = df.drop('income', axis=1)\n",
    "y = df['income']\n",
    "\n",
    "categorical_cols = X.select_dtypes(include='object').columns\n",
    "numerical_cols = X.select_dtypes(include=np.number).columns\n",
    "\n",
    "preprocessor = ColumnTransformer(\n",
    "    transformers=[\n",
    "        ('cat', OneHotEncoder(handle_unknown='ignore'), categorical_cols)],\n",
    "    remainder='passthrough')\n",
    "\n",
    "X_processed = preprocessor.fit_transform(X)\n",
    "\n",
    "X_train, X_test, y_train, y_test = train_test_split(X_processed, y, test_size=0.4, random_state=42, stratify=y)\n",
    "\n",
    "display(X_train.shape)\n",
    "display(X_test.shape)\n",
    "display(y_train.shape)\n",
    "display(y_test.shape)"
   ]
  },
  {
   "cell_type": "markdown",
   "metadata": {},
   "source": [
    "## Feature Importance Analysis\n",
    "Used Random Forest model to identify the most important features influencing salary prediction. This helps in feature selection and model interpretability."
   ]
  },
  {
   "cell_type": "code",
   "execution_count": 9,
   "metadata": {},
   "outputs": [
    {
     "name": "stdout",
     "output_type": "stream",
     "text": [
      "                              feature  importance\n",
      "1                              fnlwgt    0.175664\n",
      "0                                 age    0.156282\n",
      "3                        capital-gain    0.095658\n",
      "5                      hours-per-week    0.083978\n",
      "31  marital-status_Married-civ-spouse    0.065582\n",
      "2                     educational-num    0.059251\n"
     ]
    }
   ],
   "source": [
    "from sklearn.ensemble import RandomForestClassifier\n",
    "\n",
    "# Prepare your data\n",
    "X = df.drop('income', axis=1)\n",
    "y = df['income']\n",
    "\n",
    "# Convert categorical columns using one-hot encoding for feature importance calculation\n",
    "X_encoded = pd.get_dummies(X)\n",
    "\n",
    "# Train a Random Forest\n",
    "rf = RandomForestClassifier(random_state=42)\n",
    "rf.fit(X_encoded, y)\n",
    "\n",
    "# Get feature importances\n",
    "importances = rf.feature_importances_\n",
    "feature_names = X_encoded.columns\n",
    "\n",
    "# Create a DataFrame for easy viewing\n",
    "feat_imp = pd.DataFrame({'feature': feature_names, 'importance': importances})\n",
    "feat_imp = feat_imp.sort_values(by='importance', ascending=False)\n",
    "\n",
    "# Display top N important features\n",
    "top_n = 6\n",
    "print(feat_imp.head(top_n))"
   ]
  },
  {
   "cell_type": "code",
   "execution_count": 10,
   "metadata": {
    "colab": {
     "base_uri": "https://localhost:8080/",
     "height": 199
    },
    "id": "IyOU6385FPtj",
    "outputId": "9de11fbc-e3c3-4f39-b789-a5e4fab40d90"
   },
   "outputs": [
    {
     "data": {
      "text/plain": [
       "array([[-0.26789621, -1.21855259, -0.43615486, -0.14779435, -0.21816142,\n",
       "        -0.08191546],\n",
       "       [-1.47640119, -0.59525424, -0.43615486, -0.14779435, -0.21816142,\n",
       "        -2.15786223],\n",
       "       [-0.8721487 ,  0.03432943, -0.43615486, -0.14779435, -0.21816142,\n",
       "         0.3332739 ],\n",
       "       [ 0.94060877, -0.34270515, -0.04625705, -0.14779435,  6.21594632,\n",
       "        -0.08191546],\n",
       "       [-0.72108558,  0.01832267,  1.12343636, -0.14779435, -0.21816142,\n",
       "         1.57884196]])"
      ]
     },
     "metadata": {},
     "output_type": "display_data"
    },
    {
     "data": {
      "text/plain": [
       "(36177, 104)"
      ]
     },
     "metadata": {},
     "output_type": "display_data"
    },
    {
     "data": {
      "text/plain": [
       "(9045, 104)"
      ]
     },
     "metadata": {},
     "output_type": "display_data"
    }
   ],
   "source": [
    "from sklearn.preprocessing import StandardScaler\n",
    "from sklearn.model_selection import train_test_split\n",
    "\n",
    "# Convert sparse matrix to dense array\n",
    "X_processed_dense = X_processed.toarray()\n",
    "\n",
    "# Split the dense array data into training and testing sets\n",
    "X_train_dense, X_test_dense, y_train, y_test = train_test_split(X_processed_dense, y, test_size=0.2, random_state=42, stratify=y)\n",
    "\n",
    "scaler = StandardScaler()\n",
    "\n",
    "# Identify numerical columns start index in the dense array\n",
    "# The number of one-hot encoded features is X_processed_dense.shape[1] - len(numerical_cols)\n",
    "num_features_start_idx = X_processed_dense.shape[1] - len(numerical_cols)\n",
    "\n",
    "# Scale the numerical features in both training and testing sets of the dense array\n",
    "X_train_dense[:, num_features_start_idx:] = scaler.fit_transform(X_train_dense[:, num_features_start_idx:])\n",
    "X_test_dense[:, num_features_start_idx:] = scaler.transform(X_test_dense[:, num_features_start_idx:])\n",
    "\n",
    "# Update X_train and X_test to be the scaled dense arrays\n",
    "X_train = X_train_dense\n",
    "X_test = X_test_dense\n",
    "\n",
    "display(X_train[:5, num_features_start_idx:])\n",
    "display(X_train.shape)\n",
    "display(X_test.shape)"
   ]
  },
  {
   "cell_type": "markdown",
   "metadata": {},
   "source": [
    "## Model Selection and Training\n",
    "Train multiple machine learning models (Logistic Regression, Decision Tree, Random Forest, Gradient Boosting) to classify employee salary. Each model is trained on the processed and scaled data."
   ]
  },
  {
   "cell_type": "code",
   "execution_count": 11,
   "metadata": {
    "id": "fa99940e"
   },
   "outputs": [],
   "source": [
    "from sklearn.linear_model import LogisticRegression\n",
    "from sklearn.tree import DecisionTreeClassifier\n",
    "from sklearn.ensemble import RandomForestClassifier, GradientBoostingClassifier\n",
    "\n",
    "log_reg = LogisticRegression(max_iter=1000)\n",
    "dec_tree = DecisionTreeClassifier()\n",
    "rand_forest = RandomForestClassifier()\n",
    "grad_boost = GradientBoostingClassifier()\n",
    "\n",
    "models = {\n",
    "    'Logistic Regression': log_reg,\n",
    "    'Decision Tree': dec_tree,\n",
    "    'Random Forest': rand_forest,\n",
    "    'Gradient Boosting': grad_boost\n",
    "}"
   ]
  },
  {
   "cell_type": "code",
   "execution_count": 12,
   "metadata": {
    "colab": {
     "base_uri": "https://localhost:8080/"
    },
    "id": "e0c68789",
    "outputId": "ae859d13-eab3-46be-ec90-311af597f02b"
   },
   "outputs": [
    {
     "name": "stdout",
     "output_type": "stream",
     "text": [
      "Training Logistic Regression...\n",
      "Logistic Regression trained.\n",
      "Training Decision Tree...\n",
      "Decision Tree trained.\n",
      "Training Random Forest...\n",
      "Random Forest trained.\n",
      "Training Gradient Boosting...\n",
      "Gradient Boosting trained.\n"
     ]
    }
   ],
   "source": [
    "for name, model in models.items():\n",
    "    print(f'Training {name}...')\n",
    "    model.fit(X_train, y_train)\n",
    "    print(f'{name} trained.')"
   ]
  },
  {
   "cell_type": "markdown",
   "metadata": {},
   "source": [
    "## Model Evaluation\n",
    "Evaluate each trained model using metrics such as accuracy, precision, recall, F1-score, and AUC to determine their performance on the test set."
   ]
  },
  {
   "cell_type": "code",
   "execution_count": 13,
   "metadata": {
    "colab": {
     "base_uri": "https://localhost:8080/"
    },
    "id": "e8c71419",
    "outputId": "3959f146-8e56-47f1-8c3c-efd7b62bf08f"
   },
   "outputs": [
    {
     "name": "stdout",
     "output_type": "stream",
     "text": [
      "Evaluating Logistic Regression...\n",
      "Logistic Regression Evaluation Metrics:\n",
      "  Accuracy: 0.8464\n",
      "  Precision: 0.7327\n",
      "  Recall: 0.5990\n",
      "  F1-score: 0.6591\n",
      "  Classification Report:\n",
      "              precision    recall  f1-score   support\n",
      "\n",
      "           0       0.88      0.93      0.90      6803\n",
      "           1       0.73      0.60      0.66      2242\n",
      "\n",
      "    accuracy                           0.85      9045\n",
      "   macro avg       0.80      0.76      0.78      9045\n",
      "weighted avg       0.84      0.85      0.84      9045\n",
      "\n",
      "Evaluating Decision Tree...\n",
      "Decision Tree Evaluation Metrics:\n",
      "  Accuracy: 0.8050\n",
      "  Precision: 0.6008\n",
      "  Recall: 0.6356\n",
      "  F1-score: 0.6177\n",
      "  Classification Report:\n",
      "              precision    recall  f1-score   support\n",
      "\n",
      "           0       0.88      0.86      0.87      6803\n",
      "           1       0.60      0.64      0.62      2242\n",
      "\n",
      "    accuracy                           0.80      9045\n",
      "   macro avg       0.74      0.75      0.74      9045\n",
      "weighted avg       0.81      0.80      0.81      9045\n",
      "\n",
      "Evaluating Random Forest...\n",
      "Random Forest Evaluation Metrics:\n",
      "  Accuracy: 0.8471\n",
      "  Precision: 0.7243\n",
      "  Recall: 0.6186\n",
      "  F1-score: 0.6673\n",
      "  Classification Report:\n",
      "              precision    recall  f1-score   support\n",
      "\n",
      "           0       0.88      0.92      0.90      6803\n",
      "           1       0.72      0.62      0.67      2242\n",
      "\n",
      "    accuracy                           0.85      9045\n",
      "   macro avg       0.80      0.77      0.78      9045\n",
      "weighted avg       0.84      0.85      0.84      9045\n",
      "\n",
      "Evaluating Gradient Boosting...\n",
      "Gradient Boosting Evaluation Metrics:\n",
      "  Accuracy: 0.8593\n",
      "  Precision: 0.7799\n",
      "  Recall: 0.6021\n",
      "  F1-score: 0.6796\n",
      "  Classification Report:\n",
      "              precision    recall  f1-score   support\n",
      "\n",
      "           0       0.88      0.94      0.91      6803\n",
      "           1       0.78      0.60      0.68      2242\n",
      "\n",
      "    accuracy                           0.86      9045\n",
      "   macro avg       0.83      0.77      0.79      9045\n",
      "weighted avg       0.85      0.86      0.85      9045\n",
      "\n"
     ]
    }
   ],
   "source": [
    "from sklearn.metrics import accuracy_score, precision_score, recall_score, f1_score, classification_report\n",
    "\n",
    "results = {}\n",
    "\n",
    "for name, model in models.items():\n",
    "    print(f'Evaluating {name}...')\n",
    "    y_pred = model.predict(X_test)\n",
    "\n",
    "    # Convert y_test to binary for metric calculations\n",
    "    y_test_binary = (y_test == '>50K').astype(int)\n",
    "    y_pred_binary = (y_pred == '>50K').astype(int)\n",
    "\n",
    "    accuracy = accuracy_score(y_test_binary, y_pred_binary)\n",
    "    precision = precision_score(y_test_binary, y_pred_binary)\n",
    "    recall = recall_score(y_test_binary, y_pred_binary)\n",
    "    f1 = f1_score(y_test_binary, y_pred_binary)\n",
    "    classf_report = classification_report(y_test_binary, y_pred_binary)\n",
    "\n",
    "    results[name] = accuracy\n",
    "\n",
    "    print(f'{name} Evaluation Metrics:')\n",
    "    print(f'  Accuracy: {accuracy:.4f}')\n",
    "    print(f'  Precision: {precision:.4f}')\n",
    "    print(f'  Recall: {recall:.4f}')\n",
    "    print(f'  F1-score: {f1:.4f}')\n",
    "    print(f'  Classification Report:\\n{classf_report}')\n"
   ]
  },
  {
   "cell_type": "markdown",
   "metadata": {},
   "source": [
    "## Model Comparison: Accuracy, Precision, Recall, F1-score"
   ]
  },
  {
   "cell_type": "code",
   "execution_count": 14,
   "metadata": {},
   "outputs": [
    {
     "data": {
      "application/vnd.microsoft.datawrangler.viewer.v0+json": {
       "columns": [
        {
         "name": "index",
         "rawType": "int64",
         "type": "integer"
        },
        {
         "name": "Model",
         "rawType": "object",
         "type": "string"
        },
        {
         "name": "Accuracy",
         "rawType": "float64",
         "type": "float"
        },
        {
         "name": "Precision",
         "rawType": "float64",
         "type": "float"
        },
        {
         "name": "Recall",
         "rawType": "float64",
         "type": "float"
        },
        {
         "name": "F1-score",
         "rawType": "float64",
         "type": "float"
        }
       ],
       "ref": "43527b97-c95e-42eb-88bb-9419f472f15c",
       "rows": [
        [
         "0",
         "Logistic Regression",
         "0.8464344941956883",
         "0.7326786688488817",
         "0.5990187332738626",
         "0.6591411042944786"
        ],
        [
         "1",
         "Decision Tree",
         "0.8049751243781095",
         "0.6007588532883642",
         "0.635593220338983",
         "0.6176853055916774"
        ],
        [
         "2",
         "Random Forest",
         "0.8470978441127694",
         "0.7242819843342037",
         "0.6186440677966102",
         "0.6673081549194131"
        ],
        [
         "3",
         "Gradient Boosting",
         "0.8592592592592593",
         "0.779896013864818",
         "0.6021409455842998",
         "0.6795872136924238"
        ]
       ],
       "shape": {
        "columns": 5,
        "rows": 4
       }
      },
      "text/html": [
       "<div>\n",
       "<style scoped>\n",
       "    .dataframe tbody tr th:only-of-type {\n",
       "        vertical-align: middle;\n",
       "    }\n",
       "\n",
       "    .dataframe tbody tr th {\n",
       "        vertical-align: top;\n",
       "    }\n",
       "\n",
       "    .dataframe thead th {\n",
       "        text-align: right;\n",
       "    }\n",
       "</style>\n",
       "<table border=\"1\" class=\"dataframe\">\n",
       "  <thead>\n",
       "    <tr style=\"text-align: right;\">\n",
       "      <th></th>\n",
       "      <th>Model</th>\n",
       "      <th>Accuracy</th>\n",
       "      <th>Precision</th>\n",
       "      <th>Recall</th>\n",
       "      <th>F1-score</th>\n",
       "    </tr>\n",
       "  </thead>\n",
       "  <tbody>\n",
       "    <tr>\n",
       "      <th>0</th>\n",
       "      <td>Logistic Regression</td>\n",
       "      <td>0.846434</td>\n",
       "      <td>0.732679</td>\n",
       "      <td>0.599019</td>\n",
       "      <td>0.659141</td>\n",
       "    </tr>\n",
       "    <tr>\n",
       "      <th>1</th>\n",
       "      <td>Decision Tree</td>\n",
       "      <td>0.804975</td>\n",
       "      <td>0.600759</td>\n",
       "      <td>0.635593</td>\n",
       "      <td>0.617685</td>\n",
       "    </tr>\n",
       "    <tr>\n",
       "      <th>2</th>\n",
       "      <td>Random Forest</td>\n",
       "      <td>0.847098</td>\n",
       "      <td>0.724282</td>\n",
       "      <td>0.618644</td>\n",
       "      <td>0.667308</td>\n",
       "    </tr>\n",
       "    <tr>\n",
       "      <th>3</th>\n",
       "      <td>Gradient Boosting</td>\n",
       "      <td>0.859259</td>\n",
       "      <td>0.779896</td>\n",
       "      <td>0.602141</td>\n",
       "      <td>0.679587</td>\n",
       "    </tr>\n",
       "  </tbody>\n",
       "</table>\n",
       "</div>"
      ],
      "text/plain": [
       "                 Model  Accuracy  Precision    Recall  F1-score\n",
       "0  Logistic Regression  0.846434   0.732679  0.599019  0.659141\n",
       "1        Decision Tree  0.804975   0.600759  0.635593  0.617685\n",
       "2        Random Forest  0.847098   0.724282  0.618644  0.667308\n",
       "3    Gradient Boosting  0.859259   0.779896  0.602141  0.679587"
      ]
     },
     "metadata": {},
     "output_type": "display_data"
    }
   ],
   "source": [
    "from sklearn.metrics import accuracy_score, precision_score, recall_score, f1_score\n",
    "\n",
    "import pandas as pd\n",
    "\n",
    "metrics = {\n",
    "    \"Model\": [],\n",
    "    \"Accuracy\": [],\n",
    "    \"Precision\": [],\n",
    "    \"Recall\": [],\n",
    "    \"F1-score\": []\n",
    "}\n",
    "\n",
    "for name, model in models.items():\n",
    "    y_pred = model.predict(X_test)\n",
    "    y_test_binary = (y_test == '>50K').astype(int)\n",
    "    y_pred_binary = (y_pred == '>50K').astype(int)\n",
    "\n",
    "    metrics[\"Model\"].append(name)\n",
    "    metrics[\"Accuracy\"].append(accuracy_score(y_test_binary, y_pred_binary))\n",
    "    metrics[\"Precision\"].append(precision_score(y_test_binary, y_pred_binary))\n",
    "    metrics[\"Recall\"].append(recall_score(y_test_binary, y_pred_binary))\n",
    "    metrics[\"F1-score\"].append(f1_score(y_test_binary, y_pred_binary))\n",
    "\n",
    "metrics_df = pd.DataFrame(metrics)\n",
    "display(metrics_df)"
   ]
  },
  {
   "cell_type": "code",
   "execution_count": 15,
   "metadata": {},
   "outputs": [
    {
     "data": {
      "image/png": "[encoded data removed]",
      "text/plain": [
       "<Figure size 1000x600 with 1 Axes>"
      ]
     },
     "metadata": {},
     "output_type": "display_data"
    }
   ],
   "source": [
    "import matplotlib.pyplot as plt\n",
    "\n",
    "metrics_df.set_index(\"Model\").plot(kind=\"bar\", figsize=(10,6), color=['skyblue', 'orange', 'green', 'red'])\n",
    "plt.ylabel(\"Score\")\n",
    "plt.title(\"Model Comparison: Accuracy, Precision, Recall, F1-score\")\n",
    "plt.xticks(rotation=45)\n",
    "plt.ylim(0, 1)\n",
    "plt.grid(axis='y')\n",
    "plt.legend(loc='lower right')\n",
    "plt.tight_layout()\n",
    "plt.show()"
   ]
  },
  {
   "cell_type": "markdown",
   "metadata": {},
   "source": [
    "## Model Selection and Deployment\n",
    "Based on the evaluation metrics, we select the best performing model for deployment. The chosen model is then saved and integrated into a Streamlit app for interactive predictions."
   ]
  },
  {
   "cell_type": "code",
   "execution_count": 16,
   "metadata": {
    "colab": {
     "base_uri": "https://localhost:8080/"
    },
    "id": "5e92d984",
    "outputId": "62fabc33-632b-479a-afbf-54e261c9996d"
   },
   "outputs": [
    {
     "name": "stdout",
     "output_type": "stream",
     "text": [
      "The best performing model is: Gradient Boosting\n"
     ]
    }
   ],
   "source": [
    "best_model = models['Gradient Boosting']\n",
    "print(\"The best performing model is:\", 'Gradient Boosting')"
   ]
  },
  {
   "cell_type": "markdown",
   "metadata": {},
   "source": [
    "## Gradient Boosting Model training\n",
    "Another gradient boosting model is trained to for Streamlit App with some selected features."
   ]
  },
  {
   "cell_type": "code",
   "execution_count": 17,
   "metadata": {},
   "outputs": [
    {
     "name": "stdout",
     "output_type": "stream",
     "text": [
      "Saved pipeline for Streamlit app with only important columns and fixed column order.\n"
     ]
    }
   ],
   "source": [
    "from sklearn.preprocessing import OneHotEncoder, StandardScaler\n",
    "from sklearn.compose import ColumnTransformer\n",
    "from sklearn.model_selection import train_test_split\n",
    "from sklearn.ensemble import GradientBoostingClassifier\n",
    "from sklearn.pipeline import Pipeline\n",
    "import joblib\n",
    "\n",
    "# Selected important features based on feature importance and familiarity\n",
    "important_features = [\n",
    "    'age',\n",
    "    'workclass',\n",
    "    'education',\n",
    "    'occupation',\n",
    "    'hours-per-week',\n",
    "    'educational-num'\n",
    "    ]\n",
    "\n",
    "X_important = df[important_features]\n",
    "y_important = df['income']\n",
    "\n",
    "# Identify categorical columns in the important features\n",
    "categorical_cols_imp = X_important.select_dtypes(include='object').columns.tolist()\n",
    "\n",
    "# Preprocessing pipeline\n",
    "preprocessor_imp = ColumnTransformer([\n",
    "    ('cat', OneHotEncoder(handle_unknown='ignore'), categorical_cols_imp)\n",
    "], remainder='passthrough')\n",
    "\n",
    "# Build the full pipeline\n",
    "pipeline = Pipeline([\n",
    "    ('preprocessor', preprocessor_imp),\n",
    "    # Set with_mean=False to avoid ValueError with sparse matrix\n",
    "    ('scaler', StandardScaler(with_mean=False)),\n",
    "    ('classifier', GradientBoostingClassifier())\n",
    "    ])\n",
    "\n",
    "# Train/test split\n",
    "X_train_imp, X_test_imp, y_train_imp, y_test_imp = train_test_split(\n",
    "    X_important, y_important, test_size=0.2, random_state=42, stratify=y_important\n",
    ")\n",
    "\n",
    "# Fit pipeline\n",
    "pipeline.fit(X_train_imp, y_train_imp)\n",
    "\n",
    "# Save the entire pipeline\n",
    "joblib.dump(pipeline, 'salary_pipeline_streamlit.pkl')\n",
    "print(\"Saved pipeline for Streamlit app with only important columns and fixed column order.\")\n"
   ]
  },
  {
   "cell_type": "markdown",
   "metadata": {},
   "source": [
    "## Streamlit App for Salary Prediction\n",
    "Deploy the trained pipeline using a Streamlit web app. The app allows users to input employee details and predict salary class, as well as perform batch predictions using CSV uploads."
   ]
  },
  {
   "cell_type": "code",
   "execution_count": 18,
   "metadata": {
    "colab": {
     "base_uri": "https://localhost:8080/"
    },
    "id": "1e-SeDacGc-S",
    "outputId": "f13e4f62-bf0b-4db2-f113-a9d15c59124a"
   },
   "outputs": [
    {
     "name": "stdout",
     "output_type": "stream",
     "text": [
      "Overwriting app.py\n"
     ]
    }
   ],
   "source": [
    "%%writefile app.py\n",
    "import streamlit as st\n",
    "import pandas as pd\n",
    "import joblib\n",
    "\n",
    "# Load the trained pipeline (preprocessor + scaler + model)\n",
    "pipeline = joblib.load(\"salary_pipeline_streamlit.pkl\")\n",
    "\n",
    "st.set_page_config(page_title=\"Employee Salary Classification\", page_icon=\"💼\", layout=\"centered\")\n",
    "\n",
    "st.title(\"💼 Employee Salary Classification App\")\n",
    "st.markdown(\"Predict whether an employee earns >50K or ≤50K based on input features.\")\n",
    "\n",
    "# Sidebar inputs (these must match your training feature columns)\n",
    "st.sidebar.header(\"Input Employee Details\")\n",
    "\n",
    "age = st.sidebar.slider(\"Age\", 18, 65, 30)\n",
    "workclass = st.sidebar.selectbox(\"Workclass\", [\n",
    "    \"Private\", \"Self-emp-not-inc\", \"Self-emp-inc\", \"Federal-gov\", \"Local-gov\", \"State-gov\", \"Without-pay\", \"Never-worked\"\n",
    "])\n",
    "education = st.sidebar.selectbox(\"Education Level\", [\n",
    "    \"Bachelors\", \"Masters\", \"PhD\", \"HS-grad\", \"Assoc\", \"Some-college\"\n",
    "])\n",
    "occupation = st.sidebar.selectbox(\"Job Role\", [\n",
    "    \"Tech-support\", \"Craft-repair\", \"Other-service\", \"Sales\",\n",
    "    \"Exec-managerial\", \"Prof-specialty\", \"Handlers-cleaners\", \"Machine-op-inspct\",\n",
    "    \"Adm-clerical\", \"Farming-fishing\", \"Transport-moving\", \"Priv-house-serv\",\n",
    "    \"Protective-serv\", \"Armed-Forces\"\n",
    "])\n",
    "hours_per_week = st.sidebar.slider(\"Hours per week\", 1, 80, 40)\n",
    "educational_num = st.sidebar.slider(\"Education Number (educational-num)\", 1, 16, 10)\n",
    "\n",
    "# Build input DataFrame (must match training columns)\n",
    "input_df = pd.DataFrame({\n",
    "    'age': [age],\n",
    "    'workclass': [workclass],\n",
    "    'education': [education],\n",
    "    'occupation': [occupation],\n",
    "    'hours-per-week': [hours_per_week],\n",
    "    'educational-num': [educational_num]\n",
    "})\n",
    "\n",
    "st.write(\"### 🔎 Input Data\")\n",
    "st.write(input_df)\n",
    "\n",
    "# Predict button\n",
    "if st.button(\"Predict Salary Class\"):\n",
    "    prediction = pipeline.predict(input_df)\n",
    "    st.success(f\"✅ Prediction: {prediction[0]}\")\n",
    "\n",
    "# Batch prediction\n",
    "st.markdown(\"---\")\n",
    "st.markdown(\"#### 📂 Batch Prediction\")\n",
    "uploaded_file = st.file_uploader(\"Upload a CSV file for batch prediction\", type=\"csv\")\n",
    "\n",
    "if uploaded_file is not None:\n",
    "    batch_data = pd.read_csv(uploaded_file)\n",
    "    st.write(\"Uploaded data preview:\", batch_data.head())\n",
    "    batch_preds = pipeline.predict(batch_data)\n",
    "    batch_data['PredictedClass'] = batch_preds\n",
    "    st.write(\"✅ Predictions:\")\n",
    "    st.write(batch_data.head())\n",
    "    csv = batch_data.to_csv(index=False).encode('utf-8')\n",
    "    st.download_button(\"Download Predictions CSV\", csv, file_name='predicted_classes.csv', mime='text/csv')"
   ]
  },
  {
   "cell_type": "code",
   "execution_count": 19,
   "metadata": {
    "colab": {
     "base_uri": "https://localhost:8080/"
    },
    "id": "oXad7NMiGk79",
    "outputId": "b9ebe302-b91b-48b2-8f95-cac24e9f8b32"
   },
   "outputs": [
    {
     "name": "stdout",
     "output_type": "stream",
     "text": [
      "^C\n"
     ]
    }
   ],
   "source": [
    "!streamlit run app.py"
   ]
  }
 ],
 "metadata": {
  "colab": {
   "provenance": []
  },
  "kernelspec": {
   "display_name": "ai-gpu",
   "language": "python",
   "name": "python3"
  },
  "language_info": {
   "codemirror_mode": {
    "name": "ipython",
    "version": 3
   },
   "file_extension": ".py",
   "mimetype": "text/x-python",
   "name": "python",
   "nbconvert_exporter": "python",
   "pygments_lexer": "ipython3",
   "version": "3.8.20"
  }
 },
 "nbformat": 4,
 "nbformat_minor": 0
}
